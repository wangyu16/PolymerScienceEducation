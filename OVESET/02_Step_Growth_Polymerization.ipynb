{
 "cells": [
  {
   "cell_type": "markdown",
   "metadata": {
    "id": "hP_CAZ7H4Jz4"
   },
   "source": [
    "<center><a href=\"https://wangyu16.github.io/PolymerScienceEducation/\"><img src=\"https://raw.githubusercontent.com/wangyu16/PolymerScienceEducation/master/Fig/Logo_black.svg\" width='150' /></a></center>\n",
    "\n",
    "# Step Growth Polymerization\n",
    "\n",
    "-----------\n",
    "\n",
    "To learn the background knowledge, please visit this [study guide](https://hackmd.io/@YW2025/SJF_Nim2A)."
   ]
  },
  {
   "cell_type": "markdown",
   "metadata": {
    "id": "ZF_mQXrL_0F6"
   },
   "source": [
    "##  What does this simulator do and how to use it?\n",
    "\n",
    "The simulation provides statistical results of step growth polymerization of either AB type monomers or AA and BB type monomers. The simulation can also take into account the contributon of mono-functional molecules. Users simply select the initial conditions and run all the cells, the results will be listed below."
   ]
  },
  {
   "cell_type": "code",
   "execution_count": 1,
   "metadata": {
    "executionInfo": {
     "elapsed": 13351,
     "status": "ok",
     "timestamp": 1737493864049,
     "user": {
      "displayName": "Yu Wang",
      "userId": "11535769926648818091"
     },
     "user_tz": 360
    },
    "id": "COAtDxT1rNAL"
   },
   "outputs": [],
   "source": [
    "#@title 1. Install and import packages {display-mode: \"form\" }\n",
    "%%capture\n",
    "import sys\n",
    "if not 'sigfig' in sys.modules:\n",
    "    !pip install sigfig\n",
    "from sigfig import round\n",
    "import random\n",
    "import numpy as np\n",
    "import matplotlib.pyplot as plt\n",
    "plt.style.use('fivethirtyeight')\n",
    "from collections import Counter"
   ]
  },
  {
   "cell_type": "code",
   "execution_count": 2,
   "metadata": {
    "executionInfo": {
     "elapsed": 202,
     "status": "ok",
     "timestamp": 1737493864248,
     "user": {
      "displayName": "Yu Wang",
      "userId": "11535769926648818091"
     },
     "user_tz": 360
    },
    "id": "aalJVJjcQLAD"
   },
   "outputs": [],
   "source": [
    "#@title 2. Simulation Conditions { display-mode: \"form\" }\n",
    "\n",
    "#@markdown Assume the initial number of all molecules is $N_0$.\n",
    "\n",
    "#@markdown The initial numbers of AB, AA, and BB type monomers are $N^\\text{AB}_0$, $N^\\text{AA}_0$, and $N^\\text{BB}_0$, respectively.\n",
    "\n",
    "#@markdown The initial numbers of mono-functional molecules (chain stoppers) RA and RB are $N^\\text{RA}_0$ and $N^\\text{RB}_0$.\n",
    "\n",
    "#@markdown Select the type of polymerization to simulate.\n",
    "\n",
    "Type_of_polymerization = \"Polymerization of AA and BB type monomers\" #@param [\"Polymerization of AB type monomers\", \"Polymerization of AA and BB type monomers\"]\n",
    "Targeted_extend_of_reaction = 0.9999 #@param {type:\"slider\", min:0.9, max:1, step:0.0001}\n",
    "#@markdown Set the total number of molecules as $N_0 = 10^n$.\n",
    "\n",
    "n = 6 #@param{type:\"slider\", min:4, max:7, step:0.1}\n",
    "\n",
    "#@markdown If you choose to simulate the polymerization of AA and BB type monomers, set the ratio between two types of monomers.\n",
    "\n",
    "r_AA_BB = 1.0018 #@param {type:\"slider\", min:0.9, max:1.1, step:0.0001}\n",
    "\n",
    "#@markdown For the polymerization in the presence of chain stoppers, set the mole fraction of the chain stopers over the total number of molecules.\n",
    "\n",
    "r_RA_N0 = 0.0003 #@param {type:\"slider\", min:0, max:0.05, step:0.0001}\n",
    "r_RB_N0 = 0 #@param {type:\"slider\", min:0, max:0.05, step:0.0001}\n",
    "\n",
    "\n",
    "\n",
    "N0 = int(10**n)\n",
    "N_RB_0 = int(N0*r_RB_N0)\n",
    "N_RA_0 = int(N0*r_RA_N0)\n",
    "N_RR_0 = 0\n",
    "\n",
    "if Type_of_polymerization == \"Polymerization of AB type monomers\":\n",
    "  N_AB_0 = N0 - N_RB_0 - N_RA_0\n",
    "  N_AA_BB_0 = 0\n",
    "  N_AA_0 = 0\n",
    "  N_BB_0 = 0\n",
    "else:\n",
    "  N_AB_0 = 0\n",
    "  N_AA_BB_0 = N0 - N_RB_0 - N_RA_0\n",
    "  N_AA_0 = int(N_AA_BB_0*r_AA_BB/(r_AA_BB + 1))\n",
    "  N_BB_0 = N_AA_BB_0 - N_AA_0"
   ]
  },
  {
   "cell_type": "code",
   "execution_count": 3,
   "metadata": {
    "colab": {
     "base_uri": "https://localhost:8080/"
    },
    "executionInfo": {
     "elapsed": 4,
     "status": "ok",
     "timestamp": 1737493864248,
     "user": {
      "displayName": "Yu Wang",
      "userId": "11535769926648818091"
     },
     "user_tz": 360
    },
    "id": "rF1-gx_-gwWK",
    "outputId": "4c72cf58-d32b-4b26-bde2-22446c450476"
   },
   "outputs": [
    {
     "name": "stdout",
     "output_type": "stream",
     "text": [
      "The number of AB type monomers: 0;\n",
      " The number of AA type monomers: 500299;\n",
      " The number of BB type monomers: 499401;\n",
      " The number of RA type chain stoppers: 0;\n",
      " The number of RB type chain stoppers: 300.\n"
     ]
    }
   ],
   "source": [
    "#@title Initial Numbers of Different Type of Molecules { display-mode: \"form\" }\n",
    "\n",
    "polymers = {\n",
    "    'AB': [1]*N_AB_0,\n",
    "    'AA': [1]*N_AA_0,\n",
    "    'BB': [1]*N_BB_0,\n",
    "    'RA': [1]*N_RB_0,\n",
    "    'RB': [1]*N_RA_0,\n",
    "    'RR': [1]*N_RR_0\n",
    "}\n",
    "\n",
    "print(f\"The number of AB type monomers: {len(polymers['AB'])};\\n \\\n",
    "The number of AA type monomers: {len(polymers['AA'])};\\n \\\n",
    "The number of BB type monomers: {len(polymers['BB'])};\\n \\\n",
    "The number of RA type chain stoppers: {len(polymers['RA'])};\\n \\\n",
    "The number of RB type chain stoppers: {len(polymers['RB'])}.\")"
   ]
  },
  {
   "cell_type": "code",
   "execution_count": 4,
   "metadata": {
    "colab": {
     "base_uri": "https://localhost:8080/"
    },
    "executionInfo": {
     "elapsed": 109823,
     "status": "ok",
     "timestamp": 1737493974069,
     "user": {
      "displayName": "Yu Wang",
      "userId": "11535769926648818091"
     },
     "user_tz": 360
    },
    "id": "JBkjnTAOYBQF",
    "outputId": "245c2505-ac1d-4ca2-99f0-aef4703c4f50"
   },
   "outputs": [
    {
     "name": "stdout",
     "output_type": "stream",
     "text": [
      "The number of AB type molecules: 75;\n",
      " The number of AA type molecules: 642;\n",
      " The number of BB type molecules: 3;\n",
      " The number of RA type molecules: 236;\n",
      " The number of RB type molecules: 18;\n",
      " The number of RR type molecules: 23;\n",
      " The extend of reaction is 0.9999008812557444.\n",
      "CPU times: user 1min 34s, sys: 698 ms, total: 1min 35s\n",
      "Wall time: 1min 49s\n"
     ]
    }
   ],
   "source": [
    "#@title 3. Simulation { display-mode: \"form\" }\n",
    "\n",
    "#@markdown Note: The formation of cyclic molecules by intramolecular reaction of AB type molecules is neglected.\n",
    "%%time\n",
    "Extend_of_reaction = 0\n",
    "while Extend_of_reaction < Targeted_extend_of_reaction:\n",
    "  # Randomly choose one element from AB, AA and RA type molecules\n",
    "  # Randomly choose one element from AB, BB and RB type moleclues\n",
    "  # Make sure the above two steps do not choose the same AB type molecule\n",
    "  M1 = random.choices(['AB','AA','RA'], weights=[len(polymers['AB']), 2*len(polymers['AA']), len(polymers['RA'])])[0]\n",
    "  M2 = random.choices(['AB','BB','RB'], weights=[len(polymers['AB']), 2*len(polymers['BB']), len(polymers['RB'])])[0]\n",
    "\n",
    "  M1_idx = random.randint(0,len(polymers[M1])-1)\n",
    "  M2_idx = random.randint(0,len(polymers[M2])-1)\n",
    "\n",
    "  if M1 == 'AB' and M2 == 'AB':\n",
    "    while M1_idx == M2_idx:\n",
    "      M2_idx = random.randint(0,len(polymers['AB'])-1)\n",
    "    if M1_idx > M2_idx:\n",
    "      temp = M2_idx\n",
    "      M2_idx = M1_idx\n",
    "      M1_idx = temp\n",
    "    M3 = 'AB'\n",
    "  elif M1 == 'AB' and M2 == 'BB':\n",
    "    M3 = 'BB'\n",
    "  elif M1 == 'AB' and M2 == 'RB':\n",
    "    M3 = 'RB'\n",
    "  elif M1 == 'AA' and M2 == 'AB':\n",
    "    M3 = 'AA'\n",
    "  elif M1 == 'AA' and M2 == 'BB':\n",
    "    M3 = 'AB'\n",
    "  elif M1 == 'AA' and M2 == 'RB':\n",
    "    M3 = 'RA'\n",
    "  elif M1 == 'RA' and M2 == 'AB':\n",
    "    M3 = 'RA'\n",
    "  elif M1 == 'RA' and M2 == 'BB':\n",
    "    M3 = 'RB'\n",
    "  else:\n",
    "    M3 = 'RR'\n",
    "\n",
    "  polymers[M3].append(polymers[M1][M1_idx]+polymers[M2][M2_idx])\n",
    "  polymers[M2].pop(M2_idx)\n",
    "  polymers[M1].pop(M1_idx)\n",
    "\n",
    "  Extend_of_reaction_A = 1 - (len(polymers['AB'])+2*len(polymers['AA'])+len(polymers['RA']))/(N_AB_0 + 2*N_AA_0 + N_RA_0)\n",
    "  Extend_of_reaction_B = 1 - (len(polymers['AB'])+2*len(polymers['BB'])+len(polymers['RB']))/(N_AB_0 + 2*N_BB_0 + N_RB_0)\n",
    "  Extend_of_reaction = max([Extend_of_reaction_A, Extend_of_reaction_B])\n",
    "\n",
    "print(f\"The number of AB type molecules: {len(polymers['AB'])};\\n \\\n",
    "The number of AA type molecules: {len(polymers['AA'])};\\n \\\n",
    "The number of BB type molecules: {len(polymers['BB'])};\\n \\\n",
    "The number of RA type molecules: {len(polymers['RA'])};\\n \\\n",
    "The number of RB type molecules: {len(polymers['RB'])};\\n \\\n",
    "The number of RR type molecules: {len(polymers['RR'])};\\n \\\n",
    "The extend of reaction is {Extend_of_reaction}.\")\n"
   ]
  },
  {
   "cell_type": "code",
   "execution_count": 5,
   "metadata": {
    "colab": {
     "base_uri": "https://localhost:8080/",
     "height": 510
    },
    "executionInfo": {
     "elapsed": 7546,
     "status": "ok",
     "timestamp": 1737493981611,
     "user": {
      "displayName": "Yu Wang",
      "userId": "11535769926648818091"
     },
     "user_tz": 360
    },
    "id": "ZaTeVoCmx5C4",
    "outputId": "0023e5ce-acfb-4ce6-9809-26617db4dd03"
   },
   "outputs": [
    {
     "name": "stdout",
     "output_type": "stream",
     "text": [
      "The number average degree of polymerization is 1003.0. Weight average is 2057.0. \n",
      " The molecular weight distribution can be expressed by DPw/DPn, which is 2.05.\n"
     ]
    },
    {
     "data": {
      "image/png": "[encoded data removed]",
      "text/plain": [
       "<Figure size 640x480 with 1 Axes>"
      ]
     },
     "metadata": {},
     "output_type": "display_data"
    }
   ],
   "source": [
    "#@title 4. Results { display-mode: \"form\" }\n",
    "\n",
    "polymers_combine = polymers['AB']+polymers['AA']+polymers['BB']+polymers['RA']+polymers['RB']+polymers['RR']\n",
    "polymers_combine.sort()\n",
    "\n",
    "counter = Counter(polymers_combine)\n",
    "x = np.array(list(counter.keys()))\n",
    "y = np.array(list(counter.values()))\n",
    "z = x*y\n",
    "\n",
    "polymers_weight = []\n",
    "for i in range(0,len(x)):\n",
    "  polymers_weight+=[x[i]]*z[i]\n",
    "\n",
    "DPn = sum(polymers_combine)/len(polymers_combine)\n",
    "DPw = sum(polymers_weight)/len(polymers_weight)\n",
    "\n",
    "print(f\"The number average degree of polymerization is {round(DPn, sigfigs=4)}. Weight average is {round(DPw, sigfigs=4)}. \\n The molecular weight distribution can be expressed by DPw/DPn, which is {round(DPw/DPn, sigfigs=3)}.\")\n",
    "\n",
    "plt.xlabel(\"Degree of polymerization\")\n",
    "plt.hist(polymers_combine, bins=50, rwidth = 0.8, density=True, alpha=0.6, label=\"Number fraction\")\n",
    "plt.hist(polymers_weight, bins=50, rwidth=0.6, density=True, alpha=0.6, label=\"Weight fraction\")\n",
    "plt.legend()\n",
    "ax = plt.gca()\n",
    "ax.get_yaxis().set_visible(False)\n",
    "plt.tight_layout()\n",
    "plt.show()"
   ]
  },
  {
   "cell_type": "markdown",
   "metadata": {
    "id": "kQMEuuUzoix3"
   },
   "source": [
    "\n",
    "\n",
    "---\n",
    "\n"
   ]
  },
  {
   "cell_type": "code",
   "execution_count": 1,
   "metadata": {
    "colab": {
     "base_uri": "https://localhost:8080/",
     "height": 447
    },
    "executionInfo": {
     "elapsed": 617,
     "status": "ok",
     "timestamp": 1737493982227,
     "user": {
      "displayName": "Yu Wang",
      "userId": "11535769926648818091"
     },
     "user_tz": 360
    },
    "id": "Xmv8eknx4jU_",
    "outputId": "ce7e841d-bf95-4682-e0c8-5f9c715201ba"
   },
   "outputs": [
    {
     "data": {
      "text/markdown": [
       "---\n",
       "\n",
       "### MIT License  \n",
       "\n",
       "Copyright (c) 2021 -- 2024 Yu Wang\n",
       "\n",
       "Permission is hereby granted, free of charge, to any person obtaining a copy of this software and associated documentation files (the “Software”), to deal in the Software without restriction, including without limitation the rights to use, copy, modify, merge, publish, distribute, sublicense, and/or sell copies of the Software, and to permit persons to whom the Software is furnished to do so, subject to the following conditions:\n",
       "\n",
       "The above copyright notice and this permission notice shall be included in all copies or substantial portions of the Software.\n",
       "\n",
       "THE SOFTWARE IS PROVIDED “AS IS”, WITHOUT WARRANTY OF ANY KIND, EXPRESS OR IMPLIED, INCLUDING BUT NOT LIMITED TO THE WARRANTIES OF MERCHANTABILITY, FITNESS FOR A PARTICULAR PURPOSE AND NONINFRINGEMENT. IN NO EVENT SHALL THE AUTHORS OR COPYRIGHT HOLDERS BE LIABLE FOR ANY CLAIM, DAMAGES OR OTHER LIABILITY, WHETHER IN AN ACTION OF CONTRACT, TORT OR OTHERWISE, ARISING FROM, OUT OF OR IN CONNECTION WITH THE SOFTWARE OR THE USE OR OTHER DEALINGS IN THE SOFTWARE.\n",
       "\n",
       "### Contact\n",
       "\n",
       "Dr. Yu Wang  \n",
       "Department of Chemistry  \n",
       "Institute for Materials Research and Innovation  \n",
       "University of Louisiana at Lafayette  \n",
       "Lafayette, LA 70504  \n",
       "Email: yuwang@louisiana.edu\n",
       "\n",
       "### Acknowledgement\n",
       "\n",
       "This project is sponsored by National Science Foundation (NSF-2142043). \n"
      ],
      "text/plain": [
       "<IPython.core.display.Markdown object>"
      ]
     },
     "execution_count": 1,
     "metadata": {},
     "output_type": "execute_result"
    }
   ],
   "source": [
    "#@title Copyright { display-mode: \"form\" }\n",
    "import requests\n",
    "from IPython.display import Markdown\n",
    "copyright = requests.get(\"https://raw.githubusercontent.com/wangyu16/PolymerScienceEducation/master/copyright.md\")\n",
    "Markdown(copyright.text)"
   ]
  },
  {
   "cell_type": "code",
   "execution_count": 2,
   "metadata": {
    "executionInfo": {
     "elapsed": 2,
     "status": "ok",
     "timestamp": 1737493982227,
     "user": {
      "displayName": "Yu Wang",
      "userId": "11535769926648818091"
     },
     "user_tz": 360
    },
    "id": "dZb_N3Cg4j8z"
   },
   "outputs": [
    {
     "data": {
      "text/markdown": [
       "---\n",
       "\n",
       "### Links\n",
       "\n",
       "**[Home page of OVESET](https://wangyu16.github.io/PolymerScienceEducation/):** \n",
       "\n",
       "<img src=\"https://raw.githubusercontent.com/wangyu16/PolymerScienceEducation/refs/heads/master/img/QR_OVESET.svg\" alt=\"OVESET Home Page\" width=\"300\">\n",
       "\n",
       "**[Home page of Study Guide](https://hackmd.io/@YW2025/HJLiqoHRR)**\n",
       "\n",
       "<img src=\"https://raw.githubusercontent.com/wangyu16/PolymerScienceEducation/refs/heads/master/img/QR_PolymerStudyGuide.svg\" alt=\"Introduction to Polymer Science\" width=\"300\">\n",
       "\n"
      ],
      "text/plain": [
       "<IPython.core.display.Markdown object>"
      ]
     },
     "execution_count": 2,
     "metadata": {},
     "output_type": "execute_result"
    }
   ],
   "source": [
    "# @title {display-mode: \"form\" }\n",
    "links = requests.get(\"https://raw.githubusercontent.com/wangyu16/PolymerScienceEducation/refs/heads/master/links.md\")\n",
    "Markdown(links.text)"
   ]
  }
 ],
 "metadata": {
  "colab": {
   "authorship_tag": "ABX9TyNqugg4wUTD67ZvxcnPiXbM",
   "provenance": [
    {
     "file_id": "1Ezd50jONZjL27JMTK7pTgId8Si0Xn8QH",
     "timestamp": 1681936181991
    }
   ]
  },
  "kernelspec": {
   "display_name": "Python 3",
   "name": "python3"
  },
  "language_info": {
   "codemirror_mode": {
    "name": "ipython",
    "version": 3
   },
   "file_extension": ".py",
   "mimetype": "text/x-python",
   "name": "python",
   "nbconvert_exporter": "python",
   "pygments_lexer": "ipython3",
   "version": "3.12.1"
  }
 },
 "nbformat": 4,
 "nbformat_minor": 0
}
