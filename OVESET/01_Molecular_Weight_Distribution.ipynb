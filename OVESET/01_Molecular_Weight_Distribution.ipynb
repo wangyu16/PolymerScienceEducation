{
 "cells": [
  {
   "cell_type": "markdown",
   "metadata": {
    "id": "qjbEA5ErqzXa"
   },
   "source": [
    "<center><a href=\"https://wangyu16.github.io/PolymerScienceEducation/\"><img src=\"https://raw.githubusercontent.com/wangyu16/PolymerScienceEducation/master/Fig/Logo_black.svg\" width='150' /></a></center>\n",
    "\n",
    "# Molecular Weight Distribution\n",
    "\n",
    "-----------\n",
    "\n",
    "To learn the background knowledge, please visit this [study guide](https://hackmd.io/@YW2025/H1x5mWdiA)."
   ]
  },
  {
   "cell_type": "markdown",
   "metadata": {
    "id": "tajIGWqS_3RJ"
   },
   "source": [
    "##  What does this simulator do and how to use it?\n",
    "\n",
    "This simulator provides statistical results of step-growth polymerization of AB type monomers and living chain-growth polymerization. Users can choose the polymerization type, the number of monomers in a range of 1000 to 10000, and the number of resulting polymers in a range of 5 to 100. Note: the simulation only deals with a small number of molecules, i.e. $< 10000$, while the real-world polymerization involves $10^{20}$ molecules. Thus, the distribution of the simulation results are quite different from the real-world polymerization results. Since the purpose of this simulator is to guide students to do average molecular weight calculations, a relatively small number of molecules is appropriate. The students will learn statistics of step-growth polymerization and chain-growth polymerization in more detail in future modules.\n",
    "\n",
    "To run the simulator, simply choose the reaction conditions and run all the code cells.\n",
    "\n",
    "The result shows two ways to calculate the average molecular weight:\n",
    "\n",
    "1. Use the number fraction and weight fraction of resulting polymers with different chain lengths.\n",
    "2. Through the moments of the molecular weight distribution.\n",
    "\n",
    "The program guides you to calculate the number and weight average molecular weights step-by-step."
   ]
  },
  {
   "cell_type": "code",
   "execution_count": 4,
   "metadata": {
    "id": "SJy-Y3LQsVHp"
   },
   "outputs": [
    {
     "name": "stderr",
     "output_type": "stream",
     "text": [
      "UsageError: Line magic function `%%capture` not found.\n"
     ]
    }
   ],
   "source": [
    "#@title 1. Install and import packages {display-mode: \"form\" }\n",
    "%%capture\n",
    "import sys\n",
    "if not 'sigfig' in sys.modules:\n",
    "    !pip install sigfig\n",
    "from sigfig import round\n",
    "from IPython.display import Markdown\n",
    "import random\n",
    "import numpy as np\n",
    "import pandas as pd\n",
    "import matplotlib.pyplot as plt\n",
    "plt.style.use('fivethirtyeight')\n",
    "from collections import Counter\n",
    "from re import M\n",
    "import warnings\n",
    "warnings.filterwarnings('ignore')\n",
    "from IPython.display import HTML, display"
   ]
  },
  {
   "cell_type": "code",
   "execution_count": 52,
   "metadata": {
    "executionInfo": {
     "elapsed": 153,
     "status": "ok",
     "timestamp": 1737476665002,
     "user": {
      "displayName": "Yu Wang",
      "userId": "11535769926648818091"
     },
     "user_tz": 360
    },
    "id": "ARy9OPt_y7wz"
   },
   "outputs": [],
   "source": [
    "#@title 2. Simulation conditions { display-mode: \"form\" }\n",
    "\n",
    "Type_of_polymerization = \"Step growth polymerization\" #@param [\"Step growth polymerization\", \"Living chain growth polymerization\"]\n",
    "Number_of_monomers = 8000 #@param{type:\"slider\", min:1000,max:10000,step:1}\n",
    "Number_of_polymers = 60 #@param{type:\"slider\", min:5, max:100, step:1}\n",
    "Monomer_molar_mass = 71 #@param{type:\"slider\", min:50, max: 300, step:1}\n",
    "\n"
   ]
  },
  {
   "cell_type": "code",
   "execution_count": 53,
   "metadata": {
    "executionInfo": {
     "elapsed": 2,
     "status": "ok",
     "timestamp": 1737476665185,
     "user": {
      "displayName": "Yu Wang",
      "userId": "11535769926648818091"
     },
     "user_tz": 360
    },
    "id": "fyje_W4ya5y5"
   },
   "outputs": [],
   "source": [
    "#@title 3. Simulation { display-mode: \"form\" }\n",
    "\n",
    "if Type_of_polymerization == \"Step growth polymerization\":\n",
    "  polymers = [1]*Number_of_monomers\n",
    "  while len(polymers) > Number_of_polymers:\n",
    "    M_idx = random.sample(range(len(polymers)),2)\n",
    "    M_idx.sort()\n",
    "    polymers[M_idx[0]]+=polymers[M_idx[1]]\n",
    "    polymers.pop(M_idx[1])\n",
    "  polymers.sort()\n",
    "else:\n",
    "  polymers = [0]*Number_of_polymers\n",
    "  for i in range(Number_of_monomers):\n",
    "    M_idx = random.randint(0,len(polymers)-1)\n",
    "    polymers[M_idx]+=1\n",
    "  polymers.sort()"
   ]
  },
  {
   "cell_type": "code",
   "execution_count": null,
   "metadata": {
    "colab": {
     "base_uri": "https://localhost:8080/",
     "height": 495
    },
    "executionInfo": {
     "elapsed": 758,
     "status": "ok",
     "timestamp": 1737476665942,
     "user": {
      "displayName": "Yu Wang",
      "userId": "11535769926648818091"
     },
     "user_tz": 360
    },
    "id": "7Mb-TNauv6Ww",
    "outputId": "0fb91ae1-d477-4eab-8700-99586a4676d6"
   },
   "outputs": [],
   "source": [
    "#@title Plot the fractions of each type of polymers. { display-mode: \"form\" }\n",
    "counter = Counter(polymers)\n",
    "DP = np.array(list(counter.keys()))\n",
    "MW = DP*Monomer_molar_mass\n",
    "Num = np.array(list(counter.values()))\n",
    "\n",
    "results = pd.DataFrame.from_dict({\"DP\": DP, \"Molecular weight\": MW, \"Number\": Num})\n",
    "results.set_index(\"DP\", inplace=True)\n",
    "results[\"f_N\"]=Num/Number_of_polymers\n",
    "results[\"MW*f_N\"] = MW*results[\"f_N\"]\n",
    "results[\"f_W\"]=DP*Num/Number_of_monomers\n",
    "results[\"MW*f_W\"] = MW*results[\"f_W\"]\n",
    "\n",
    "Mn_1 = sum(results[\"MW*f_N\"])\n",
    "Mw_1 = sum(results[\"MW*f_W\"])\n",
    "\n",
    "M0 = sum(results[\"f_N\"])\n",
    "M1 = sum(results[\"Molecular weight\"]*results[\"f_N\"])\n",
    "M2 = sum(results[\"Molecular weight\"]**2*results[\"f_N\"])\n",
    "M3 = sum(results[\"Molecular weight\"]**3*results[\"f_N\"])\n",
    "M4 = sum(results[\"Molecular weight\"]**4*results[\"f_N\"])\n",
    "\n",
    "Mn_2 = M1\n",
    "Mw_2 = M2/M1\n",
    "\n",
    "if Number_of_polymers <= 30:\n",
    "  figWidth=6\n",
    "else:\n",
    "  figWidth=Number_of_polymers*20/100\n",
    "results[[\"Molecular weight\",\"f_N\",\"f_W\"]].plot(kind='bar', x=\"Molecular weight\", figsize=(figWidth,5))\n",
    "\n",
    "plt.xlabel(\"Molecular weight\")\n",
    "plt.xticks(rotation=90, ha='left')\n",
    "plt.legend(['Number fraction ($x_i$)','Weight fraction ($w_i$)'], loc='upper left')\n",
    "plt.tight_layout()\n",
    "plt.show()"
   ]
  },
  {
   "cell_type": "code",
   "execution_count": null,
   "metadata": {
    "colab": {
     "base_uri": "https://localhost:8080/",
     "height": 1000
    },
    "executionInfo": {
     "elapsed": 6,
     "status": "ok",
     "timestamp": 1737476665942,
     "user": {
      "displayName": "Yu Wang",
      "userId": "11535769926648818091"
     },
     "user_tz": 360
    },
    "id": "GyGeEXe4GD-U",
    "outputId": "8354e20d-e588-4452-81d2-47b2ef389862"
   },
   "outputs": [],
   "source": [
    "#@title 4. Calculation  { display-mode: \"form\" }\n",
    "#@markdown ### Calculation by number and weight fractions\n",
    "#@markdown Show the number of each type of polymers. \\\n",
    "#@markdown Try to calculate by yourself before moving on.\n",
    "results[['Molecular weight','Number']]"
   ]
  },
  {
   "cell_type": "code",
   "execution_count": null,
   "metadata": {
    "colab": {
     "base_uri": "https://localhost:8080/",
     "height": 1000
    },
    "executionInfo": {
     "elapsed": 5,
     "status": "ok",
     "timestamp": 1737476665942,
     "user": {
      "displayName": "Yu Wang",
      "userId": "11535769926648818091"
     },
     "user_tz": 360
    },
    "id": "wlaYfT85pnXr",
    "outputId": "58ed915b-28ea-4ca2-c37f-15275dcd48c4"
   },
   "outputs": [],
   "source": [
    "\n",
    "#@title {display-mode: \"form\" }\n",
    "#@markdown Show number fraction and weight fraction of each type of polymers.\n",
    "\n",
    "# 1. Define LaTeX column titles\n",
    "latex_column_names = {\n",
    "       'DP': '$DP$',\n",
    "       'Molecular weight': '$M_i$',\n",
    "       'Number': '$n_i$',\n",
    "       'f_N': '$x_i$',\n",
    "       'MW*f_N': '$M_i \\cdot x_i$',\n",
    "       'f_W': '$w_i$',\n",
    "       'MW*f_W': '$M_i \\cdot w_i$'\n",
    "   }\n",
    "\n",
    "# 2. Reset index to make 'DP' a regular column\n",
    "results = results.reset_index()\n",
    "\n",
    "# 3. Rename columns (including DP)\n",
    "results = results.rename(columns=latex_column_names)\n",
    "\n",
    "# 4. Apply styles\n",
    "styles = [\n",
    "    dict(selector=\"th\", props=[(\"text-align\", \"left\")]),\n",
    "    dict(selector=\"th, td\", props=[(\"width\", \"150px\")])  # Adjust width as needed\n",
    "]\n",
    "\n",
    "# 5. Convert to HTML and inject MathJax script\n",
    "html_table = results.style.set_table_styles(styles).to_html()\n",
    "\n",
    "# Add MathJax script\n",
    "html_table = f\"\"\"\n",
    "<script type=\"text/x-mathjax-config\">\n",
    "MathJax.Hub.Config({{\n",
    "    tex2jax: {{inlineMath: [['$','$'], ['\\\\(','\\\\)']]}}\n",
    "}});\n",
    "</script>\n",
    "<script type=\"text/javascript\" async\n",
    "    src=\"https://cdnjs.cloudflare.com/ajax/libs/mathjax/2.7.7/MathJax.js?config=TeX-MML-AM_CHTML\">\n",
    "</script>\n",
    "{html_table}\n",
    "\"\"\"\n",
    "\n",
    "# 6. Display the HTML with JavaScript\n",
    "display(HTML(html_table))\n",
    "\n"
   ]
  },
  {
   "cell_type": "code",
   "execution_count": null,
   "metadata": {
    "colab": {
     "base_uri": "https://localhost:8080/",
     "height": 73
    },
    "executionInfo": {
     "elapsed": 4,
     "status": "ok",
     "timestamp": 1737476665942,
     "user": {
      "displayName": "Yu Wang",
      "userId": "11535769926648818091"
     },
     "user_tz": 360
    },
    "id": "Ij7i6-s0MpiB",
    "outputId": "249de54d-85e7-44c7-aa44-9f35b9731405"
   },
   "outputs": [],
   "source": [
    "# @title {display-mode: \"form\" }\n",
    "\n",
    "Markdown(f\"The number average molecular weight ($M_n$) is {round(Mn_1, sigfigs=4)}, weight average ($M_w$) is {round(Mw_1, sigfigs=4)}, the molecular weight distribution can be represented by the value of $M_w/M_n$, which is {round(Mw_1/Mn_1,sigfigs=3)}.\")"
   ]
  },
  {
   "cell_type": "code",
   "execution_count": null,
   "metadata": {
    "colab": {
     "base_uri": "https://localhost:8080/",
     "height": 73
    },
    "executionInfo": {
     "elapsed": 4,
     "status": "ok",
     "timestamp": 1737476665942,
     "user": {
      "displayName": "Yu Wang",
      "userId": "11535769926648818091"
     },
     "user_tz": 360
    },
    "id": "B-b57zdMl0PI",
    "outputId": "697c5859-3676-441f-c13c-cd6d767ed0ab"
   },
   "outputs": [],
   "source": [
    "#@title Calculation by moments { display-mode: \"form\" }\n",
    "#@markdown The $n$-th moment simply equals:\n",
    "#@markdown $$Mn=\\sum_i M_i^n\\times x_i$$\n",
    "\n",
    "Markdown(f\"The number average molecular weight ($M_n$) equals the first moment ($M1$) which is {round(Mn_1, sigfigs=4)}. The second moment ($M2$) is {round(M2, sigfigs=4)}. The weight average ($M_w$) equals $M2/M1$ which is {round(Mw_1, sigfigs=4)}.\")"
   ]
  },
  {
   "cell_type": "markdown",
   "metadata": {
    "id": "-Gd35Lgpounu"
   },
   "source": [
    "\n",
    "---\n",
    "\n"
   ]
  },
  {
   "cell_type": "code",
   "execution_count": null,
   "metadata": {
    "colab": {
     "base_uri": "https://localhost:8080/",
     "height": 447
    },
    "executionInfo": {
     "elapsed": 125,
     "status": "ok",
     "timestamp": 1737476666064,
     "user": {
      "displayName": "Yu Wang",
      "userId": "11535769926648818091"
     },
     "user_tz": 360
    },
    "id": "W90Al16cDXBw",
    "outputId": "daf95da7-801b-42fa-aeaf-a39b93b2ae1f"
   },
   "outputs": [
    {
     "data": {
      "text/markdown": [
       "---\n",
       "\n",
       "### MIT License  \n",
       "\n",
       "Copyright (c) 2021 -- 2024 Yu Wang\n",
       "\n",
       "Permission is hereby granted, free of charge, to any person obtaining a copy of this software and associated documentation files (the “Software”), to deal in the Software without restriction, including without limitation the rights to use, copy, modify, merge, publish, distribute, sublicense, and/or sell copies of the Software, and to permit persons to whom the Software is furnished to do so, subject to the following conditions:\n",
       "\n",
       "The above copyright notice and this permission notice shall be included in all copies or substantial portions of the Software.\n",
       "\n",
       "THE SOFTWARE IS PROVIDED “AS IS”, WITHOUT WARRANTY OF ANY KIND, EXPRESS OR IMPLIED, INCLUDING BUT NOT LIMITED TO THE WARRANTIES OF MERCHANTABILITY, FITNESS FOR A PARTICULAR PURPOSE AND NONINFRINGEMENT. IN NO EVENT SHALL THE AUTHORS OR COPYRIGHT HOLDERS BE LIABLE FOR ANY CLAIM, DAMAGES OR OTHER LIABILITY, WHETHER IN AN ACTION OF CONTRACT, TORT OR OTHERWISE, ARISING FROM, OUT OF OR IN CONNECTION WITH THE SOFTWARE OR THE USE OR OTHER DEALINGS IN THE SOFTWARE.\n",
       "\n",
       "### Contact\n",
       "\n",
       "Dr. Yu Wang  \n",
       "Department of Chemistry  \n",
       "Institute for Materials Research and Innovation  \n",
       "University of Louisiana at Lafayette  \n",
       "Lafayette, LA 70504  \n",
       "Email: yuwang@louisiana.edu\n",
       "\n",
       "### Acknowledgement\n",
       "\n",
       "This project is sponsored by National Science Foundation (NSF-2142043). \n"
      ],
      "text/plain": [
       "<IPython.core.display.Markdown object>"
      ]
     },
     "execution_count": 3,
     "metadata": {},
     "output_type": "execute_result"
    }
   ],
   "source": [
    "#@title Copyright { display-mode: \"form\" }\n",
    "import requests\n",
    "from IPython.display import Markdown\n",
    "copyright = requests.get(\"https://raw.githubusercontent.com/wangyu16/PolymerScienceEducation/master/copyright.md\")\n",
    "\n",
    "Markdown(copyright.text)\n"
   ]
  },
  {
   "cell_type": "code",
   "execution_count": 2,
   "metadata": {
    "executionInfo": {
     "elapsed": 1,
     "status": "ok",
     "timestamp": 1737476666064,
     "user": {
      "displayName": "Yu Wang",
      "userId": "11535769926648818091"
     },
     "user_tz": 360
    },
    "id": "xShE9mEhghDC"
   },
   "outputs": [
    {
     "data": {
      "text/markdown": [
       "---\n",
       "\n",
       "### Links\n",
       "\n",
       "**[Home page of OVESET](https://wangyu16.github.io/PolymerScienceEducation/):** \n",
       "\n",
       "<img src=\"https://raw.githubusercontent.com/wangyu16/PolymerScienceEducation/refs/heads/master/img/QR_OVESET.svg\" alt=\"OVESET Home Page\" width=\"300\">\n",
       "\n",
       "**[Home page of Study Guide](https://hackmd.io/@YW2025/HJLiqoHRR)**\n",
       "\n",
       "<img src=\"https://raw.githubusercontent.com/wangyu16/PolymerScienceEducation/refs/heads/master/img/QR_PolymerStudyGuide.svg\" alt=\"Introduction to Polymer Science\" width=\"300\">\n",
       "\n"
      ],
      "text/plain": [
       "<IPython.core.display.Markdown object>"
      ]
     },
     "execution_count": 2,
     "metadata": {},
     "output_type": "execute_result"
    }
   ],
   "source": [
    "# @title {display-mode: \"form\" }\n",
    "links = requests.get(\"https://raw.githubusercontent.com/wangyu16/PolymerScienceEducation/refs/heads/master/links.md\")\n",
    "Markdown(links.text)"
   ]
  }
 ],
 "metadata": {
  "colab": {
   "authorship_tag": "ABX9TyMgo0k8UXShAPYwvPTY5z64",
   "provenance": []
  },
  "kernelspec": {
   "display_name": "Python 3",
   "language": "python",
   "name": "python3"
  },
  "language_info": {
   "codemirror_mode": {
    "name": "ipython",
    "version": 3
   },
   "file_extension": ".py",
   "mimetype": "text/x-python",
   "name": "python",
   "nbconvert_exporter": "python",
   "pygments_lexer": "ipython3",
   "version": "3.10.12"
  }
 },
 "nbformat": 4,
 "nbformat_minor": 0
}
